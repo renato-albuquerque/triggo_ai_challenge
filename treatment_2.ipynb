{
 "cells": [
  {
   "cell_type": "markdown",
   "id": "e549456f",
   "metadata": {},
   "source": [
    "# Tratamento dos dados."
   ]
  },
  {
   "cell_type": "code",
   "execution_count": 2,
   "id": "1180c13b",
   "metadata": {},
   "outputs": [],
   "source": [
    "import pandas as pd\n",
    "import numpy as np\n",
    "import matplotlib.pyplot as plt\n",
    "import seaborn as sns"
   ]
  },
  {
   "cell_type": "markdown",
   "id": "d07e101f",
   "metadata": {},
   "source": [
    "## dataset geolocation: Tratar valores duplicados:\n",
    "Apresentando o que ser tratado e a solução."
   ]
  },
  {
   "cell_type": "code",
   "execution_count": 3,
   "id": "d4551972",
   "metadata": {},
   "outputs": [],
   "source": [
    "df_geolocation = pd.read_csv('./dataset/olist_geolocation_dataset.csv', sep=\",\")"
   ]
  },
  {
   "cell_type": "code",
   "execution_count": 4,
   "id": "e660e7b5",
   "metadata": {},
   "outputs": [
    {
     "name": "stdout",
     "output_type": "stream",
     "text": [
      "Total de valores duplicados: 261831\n"
     ]
    }
   ],
   "source": [
    "duplicate_value_geolocation = df_geolocation.duplicated()\n",
    "print(f\"Total de valores duplicados: {duplicate_value_geolocation.sum()}\")"
   ]
  },
  {
   "cell_type": "code",
   "execution_count": 5,
   "id": "98b3ab0e",
   "metadata": {},
   "outputs": [
    {
     "name": "stdout",
     "output_type": "stream",
     "text": [
      "Total de valores duplicados após remoção: 0\n"
     ]
    }
   ],
   "source": [
    "df_geolocation_treated = df_geolocation.drop_duplicates()\n",
    "print(f\"Total de valores duplicados após remoção: {df_geolocation_treated.duplicated().sum()}\")"
   ]
  },
  {
   "cell_type": "code",
   "execution_count": 6,
   "id": "bda524d6",
   "metadata": {},
   "outputs": [
    {
     "name": "stdout",
     "output_type": "stream",
     "text": [
      "<class 'pandas.core.frame.DataFrame'>\n",
      "Index: 738332 entries, 0 to 1000161\n",
      "Data columns (total 5 columns):\n",
      " #   Column                       Non-Null Count   Dtype  \n",
      "---  ------                       --------------   -----  \n",
      " 0   geolocation_zip_code_prefix  738332 non-null  int64  \n",
      " 1   geolocation_lat              738332 non-null  float64\n",
      " 2   geolocation_lng              738332 non-null  float64\n",
      " 3   geolocation_city             738332 non-null  object \n",
      " 4   geolocation_state            738332 non-null  object \n",
      "dtypes: float64(2), int64(1), object(2)\n",
      "memory usage: 33.8+ MB\n"
     ]
    }
   ],
   "source": [
    "df_geolocation_treated.info()"
   ]
  },
  {
   "cell_type": "markdown",
   "id": "4c43c7dd",
   "metadata": {},
   "source": [
    "## dataset order_items: Coluna shipping_limit_date, object para date.\n",
    "Apresentando o que ser tratado e a solução."
   ]
  },
  {
   "cell_type": "code",
   "execution_count": 8,
   "id": "2cc27711",
   "metadata": {},
   "outputs": [
    {
     "name": "stdout",
     "output_type": "stream",
     "text": [
      "<class 'pandas.core.frame.DataFrame'>\n",
      "RangeIndex: 112650 entries, 0 to 112649\n",
      "Data columns (total 7 columns):\n",
      " #   Column               Non-Null Count   Dtype  \n",
      "---  ------               --------------   -----  \n",
      " 0   order_id             112650 non-null  object \n",
      " 1   order_item_id        112650 non-null  int64  \n",
      " 2   product_id           112650 non-null  object \n",
      " 3   seller_id            112650 non-null  object \n",
      " 4   shipping_limit_date  112650 non-null  object \n",
      " 5   price                112650 non-null  float64\n",
      " 6   freight_value        112650 non-null  float64\n",
      "dtypes: float64(2), int64(1), object(4)\n",
      "memory usage: 6.0+ MB\n"
     ]
    }
   ],
   "source": [
    "df_order_items = pd.read_csv('./dataset/olist_order_items_dataset.csv', sep=\",\")\n",
    "df_order_items.info()"
   ]
  },
  {
   "cell_type": "code",
   "execution_count": 12,
   "id": "3f609b38",
   "metadata": {},
   "outputs": [
    {
     "name": "stdout",
     "output_type": "stream",
     "text": [
      "<class 'pandas.core.frame.DataFrame'>\n",
      "RangeIndex: 112650 entries, 0 to 112649\n",
      "Data columns (total 7 columns):\n",
      " #   Column               Non-Null Count   Dtype         \n",
      "---  ------               --------------   -----         \n",
      " 0   order_id             112650 non-null  object        \n",
      " 1   order_item_id        112650 non-null  int64         \n",
      " 2   product_id           112650 non-null  object        \n",
      " 3   seller_id            112650 non-null  object        \n",
      " 4   shipping_limit_date  112650 non-null  datetime64[ns]\n",
      " 5   price                112650 non-null  float64       \n",
      " 6   freight_value        112650 non-null  float64       \n",
      "dtypes: datetime64[ns](1), float64(2), int64(1), object(3)\n",
      "memory usage: 6.0+ MB\n"
     ]
    }
   ],
   "source": [
    "df_order_items_treated = df_order_items\n",
    "df_order_items_treated['shipping_limit_date'] = pd.to_datetime(df_order_items_treated['shipping_limit_date'])\n",
    "df_order_items_treated.info()"
   ]
  }
 ],
 "metadata": {
  "kernelspec": {
   "display_name": ".venv",
   "language": "python",
   "name": "python3"
  },
  "language_info": {
   "codemirror_mode": {
    "name": "ipython",
    "version": 3
   },
   "file_extension": ".py",
   "mimetype": "text/x-python",
   "name": "python",
   "nbconvert_exporter": "python",
   "pygments_lexer": "ipython3",
   "version": "3.12.7"
  }
 },
 "nbformat": 4,
 "nbformat_minor": 5
}
